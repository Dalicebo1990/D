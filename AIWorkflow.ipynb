{
  "nbformat": 4,
  "nbformat_minor": 0,
  "metadata": {
    "colab": {
      "provenance": [],
      "authorship_tag": "ABX9TyNxY1mmfepu3QHtv9qgMR6H",
      "include_colab_link": true
    },
    "kernelspec": {
      "name": "python3",
      "display_name": "Python 3"
    },
    "language_info": {
      "name": "python"
    }
  },
  "cells": [
    {
      "cell_type": "markdown",
      "metadata": {
        "id": "view-in-github",
        "colab_type": "text"
      },
      "source": [
        "<a href=\"https://colab.research.google.com/github/Dalicebo1990/D/blob/main/AIWorkflow.ipynb\" target=\"_parent\"><img src=\"https://colab.research.google.com/assets/colab-badge.svg\" alt=\"Open In Colab\"/></a>"
      ]
    },
    {
      "cell_type": "code",
      "execution_count": 1,
      "metadata": {
        "colab": {
          "base_uri": "https://localhost:8080/"
        },
        "id": "vkOelhKbiYkO",
        "outputId": "ce2f1473-bfcf-4388-d05a-34831007b678"
      },
      "outputs": [
        {
          "output_type": "stream",
          "name": "stderr",
          "text": [
            "[nltk_data] Downloading package punkt to /root/nltk_data...\n",
            "[nltk_data]   Unzipping tokenizers/punkt.zip.\n"
          ]
        },
        {
          "output_type": "stream",
          "name": "stdout",
          "text": [
            "\n",
            "    Company Overview:\n",
            "    ------------------\n",
            "    Title: IBM - United States\n",
            "    Description: For more than a century, IBM has been a global technology innovator, leading advances in AI, automation and hybrid cloud solutions that help businesses grow.\n",
            "    \n",
            "    Sentiment Analysis:\n",
            "    -------------------\n",
            "    Polarity: 0.25\n",
            "    Subjectivity: 0.25\n",
            "\n",
            "    Topic Modeling:\n",
            "    -------------------\n",
            "    Main topics identified: [(0, '0.063*\",\" + 0.048*\"ibm\" + 0.048*\"a\" + 0.048*\".\"')]\n",
            "    \n"
          ]
        }
      ],
      "source": [
        "import requests\n",
        "from bs4 import BeautifulSoup\n",
        "from textblob import TextBlob\n",
        "import gensim\n",
        "from gensim import corpora\n",
        "import nltk\n",
        "from nltk.tokenize import word_tokenize\n",
        "from gensim.models import LdaModel\n",
        "from urllib.parse import urlparse\n",
        "\n",
        "# Ensure NLTK resources are downloaded\n",
        "nltk.download('punkt')\n",
        "\n",
        "# Function to validate and format the URL\n",
        "def validate_url(url):\n",
        "    parsed_url = urlparse(url)\n",
        "    if not parsed_url.scheme:\n",
        "        url = \"https://\" + url\n",
        "    return url\n",
        "\n",
        "# Web scraping example\n",
        "def extract_data(url):\n",
        "    try:\n",
        "        # Validate the URL to ensure it includes a scheme (e.g., https://)\n",
        "        url = validate_url(url)\n",
        "\n",
        "        response = requests.get(url)\n",
        "        response.raise_for_status()  # Check if the request was successful\n",
        "        soup = BeautifulSoup(response.content, 'html.parser')\n",
        "\n",
        "        # Extract meaningful content (e.g., title, description, etc.)\n",
        "        title = soup.title.string if soup.title else 'Title Not Found'\n",
        "        meta_description = soup.find('meta', attrs={'name': 'description'})\n",
        "        description = meta_description['content'] if meta_description else 'Description Not Found'\n",
        "\n",
        "        return {\"title\": title, \"description\": description}\n",
        "    except requests.exceptions.RequestException as e:\n",
        "        print(f\"Error fetching data from {url}: {e}\")\n",
        "        return None\n",
        "\n",
        "# NLP example: Keyword extraction, sentiment analysis, and topic modeling\n",
        "def analyze_text(data):\n",
        "    text = f\"{data['title']}. {data['description']}\"\n",
        "\n",
        "    # Sentiment analysis using TextBlob\n",
        "    blob = TextBlob(text)\n",
        "    sentiment = blob.sentiment\n",
        "\n",
        "    # Tokenize the text for topic modeling\n",
        "    tokens = word_tokenize(text.lower())\n",
        "    dictionary = corpora.Dictionary([tokens])\n",
        "    corpus = [dictionary.doc2bow(tokens)]\n",
        "\n",
        "    # Perform topic modeling using LDA (Latent Dirichlet Allocation)\n",
        "    lda_model = LdaModel(corpus, num_topics=1, id2word=dictionary, passes=15)\n",
        "    topics = lda_model.print_topics(num_words=4)\n",
        "\n",
        "    return {\n",
        "        \"sentiment\": sentiment,\n",
        "        \"topics\": topics\n",
        "    }\n",
        "\n",
        "# Article generation example\n",
        "def generate_article(data, analysis):\n",
        "    article = f\"\"\"\n",
        "    Company Overview:\n",
        "    ------------------\n",
        "    Title: {data['title']}\n",
        "    Description: {data['description']}\n",
        "\n",
        "    Sentiment Analysis:\n",
        "    -------------------\n",
        "    Polarity: {analysis['sentiment'].polarity}\n",
        "    Subjectivity: {analysis['sentiment'].subjectivity}\n",
        "\n",
        "    Topic Modeling:\n",
        "    -------------------\n",
        "    Main topics identified: {analysis['topics']}\n",
        "    \"\"\"\n",
        "\n",
        "    return article\n",
        "\n",
        "# Workflow integration example\n",
        "def process_company(url):\n",
        "    data = extract_data(url)\n",
        "    if data:  # Proceed only if data was successfully scraped\n",
        "        analysis = analyze_text(data)\n",
        "        article = generate_article(data, analysis)\n",
        "        return article\n",
        "    else:\n",
        "        return \"Failed to extract data from the website.\"\n",
        "\n",
        "# Main function (Hardcoded URL)\n",
        "if __name__ == '__main__':\n",
        "    url = \"https://www.ibm.com\"  # Hardcoded example URL\n",
        "    article = process_company(url)\n",
        "    print(article)\n"
      ]
    }
  ]
}